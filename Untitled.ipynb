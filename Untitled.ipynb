{
 "cells": [
  {
   "cell_type": "code",
   "execution_count": 16,
   "metadata": {
    "collapsed": false
   },
   "outputs": [
    {
     "ename": "ValueError",
     "evalue": "too many values to unpack",
     "output_type": "error",
     "traceback": [
      "\u001b[1;31m---------------------------------------------------------------------------\u001b[0m",
      "\u001b[1;31mValueError\u001b[0m                                Traceback (most recent call last)",
      "\u001b[1;32m<ipython-input-16-8eb2c0bf93d8>\u001b[0m in \u001b[0;36m<module>\u001b[1;34m()\u001b[0m\n\u001b[0;32m     35\u001b[0m     \u001b[0mlikecount\u001b[0m\u001b[1;33m.\u001b[0m\u001b[0mappend\u001b[0m\u001b[1;33m(\u001b[0m\u001b[0mvalue\u001b[0m\u001b[1;33m)\u001b[0m\u001b[1;33m\u001b[0m\u001b[0m\n\u001b[0;32m     36\u001b[0m \u001b[1;33m\u001b[0m\u001b[0m\n\u001b[1;32m---> 37\u001b[1;33m \u001b[1;32mfor\u001b[0m \u001b[0ma\u001b[0m\u001b[1;33m,\u001b[0m\u001b[0mb\u001b[0m \u001b[1;32min\u001b[0m \u001b[0mname\u001b[0m\u001b[1;33m,\u001b[0m\u001b[0mlikecount\u001b[0m\u001b[1;33m:\u001b[0m\u001b[1;33m\u001b[0m\u001b[0m\n\u001b[0m\u001b[0;32m     38\u001b[0m     \u001b[1;32mprint\u001b[0m \u001b[0ma\u001b[0m\u001b[1;33m,\u001b[0m\u001b[0mb\u001b[0m\u001b[1;33m\u001b[0m\u001b[0m\n\u001b[0;32m     39\u001b[0m \u001b[1;33m\u001b[0m\u001b[0m\n",
      "\u001b[1;31mValueError\u001b[0m: too many values to unpack"
     ]
    }
   ],
   "source": [
    "import requests\n",
    "import json \n",
    "import jieba\n",
    "\n",
    "TOKEN = \"EAACEdEose0cBAOJMiPTsrve5n5uiZCbL91qSP0fiWzR5MDIhKUikphoHQSjPZCHZCbttjfk5o0F5t9MYFjD2P3b5TyJsDZAb1GvZASbnt14amapkeQSghYRczHUNFu3EQT6pRd4YaWiPgIHgeQoxz17bCvL77o1OiaSrYuvS6HAZDZD\"\n",
    "anal = []\n",
    "res = requests.get(\"https://graph.facebook.com/me/posts?limt=10000&since=1254067200&access_token=\"+TOKEN)\n",
    "jd = json.loads(res.text)\n",
    "while \"paging\" in jd :\n",
    "    for post in jd[\"data\"] :\n",
    "        if \"likes\" in post :\n",
    "            \n",
    "            for people in post[\"likes\"][\"data\"]:\n",
    "                #print (people[\"name\"])\n",
    "                anal.append(people[\"name\"])\n",
    "            \n",
    "            #print post \n",
    "            #print \"~~~~~~~~~~~~~~~~~~~~~~~~~~~~~~~~~~~~~~~~~~~~~~~~~~~~~~~~~~~~~\"\n",
    "            \n",
    "    res = requests.get(jd[\"paging\"][\"next\"])\n",
    "    jd = json.loads(res.text)\n",
    "\n",
    "\n",
    "dic = {}\n",
    "for ele in anal:\n",
    "    if ele in dic:\n",
    "        dic[ele] += 1\n",
    "    else :\n",
    "        dic[ele] = 1\n",
    "\n",
    "name = []\n",
    "likecount = []\n",
    "for key,value in dic.iteritems():\n",
    "    name.append(key)\n",
    "    likecount.append(value)\n",
    "\n",
    "for a,b in name,likecount:\n",
    "    print a,b\n",
    "\n",
    "\n",
    "'''\n",
    "print anal\n",
    "'''\n"
   ]
  },
  {
   "cell_type": "code",
   "execution_count": null,
   "metadata": {
    "collapsed": false
   },
   "outputs": [],
   "source": [
    "import matplotlib.pyplot as plt\n",
    "\n",
    "a=[1,2,3,4,5]\n",
    "b=[6,7,8,9,10]\n",
    "\n",
    "plt.plot(a,b)\n",
    "plt.show()\n"
   ]
  },
  {
   "cell_type": "code",
   "execution_count": null,
   "metadata": {
    "collapsed": true
   },
   "outputs": [],
   "source": []
  }
 ],
 "metadata": {
  "kernelspec": {
   "display_name": "Python 2",
   "language": "python",
   "name": "python2"
  },
  "language_info": {
   "codemirror_mode": {
    "name": "ipython",
    "version": 2
   },
   "file_extension": ".py",
   "mimetype": "text/x-python",
   "name": "python",
   "nbconvert_exporter": "python",
   "pygments_lexer": "ipython2",
   "version": "2.7.11"
  }
 },
 "nbformat": 4,
 "nbformat_minor": 0
}
